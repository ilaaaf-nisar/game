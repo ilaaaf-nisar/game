{
 "cells": [
  {
   "cell_type": "code",
   "execution_count": 15,
   "metadata": {},
   "outputs": [],
   "source": [
    "def check_values(CdNum):\n",
    "    if len(CdNum)is not in [16]:\n",
    "        print(\"Check the Card Number\")\n",
    "        return False\n",
    "    return True\n",
    "def convert_to_int(CardNumber):\n",
    "    OtherDigits = int(CardNumber[0:-1:1])\n",
    "    Digits = []\n",
    "    while OtherDigits > 0:\n",
    "        r = OtherDigits % 10\n",
    "        Digits.append(r)\n",
    "        OtherDigits = OtherDigits//10\n",
    "    return Digits\n",
    "def do_multiple_by_2(digits):\n",
    "    for i in range(0,15,2):\n",
    "        digits[i] *=2\n",
    "    return digits\n",
    "def SumDigits(x):\n",
    "    total = 0\n",
    "    while x>0:\n",
    "        r = x % 10\n",
    "        total += r\n",
    "        x = x//10\n",
    "    return total\n",
    "def CheckSumDigits(digits):\n",
    "    total = 0\n",
    "    for i in range(15):\n",
    "        x = digits[i]\n",
    "        if x>9:\n",
    "            digits[i] = SumDigits(x)\n",
    "    return digits\n",
    "def check_sum(digits):\n",
    "    total = 0\n",
    "    for i in digits:\n",
    "        total += i\n",
    "    return total\n",
    "                \n",
    "    "
   ]
  },
  {
   "cell_type": "code",
   "execution_count": 16,
   "metadata": {},
   "outputs": [
    {
     "name": "stdout",
     "output_type": "stream",
     "text": [
      "Enter 16 digit card number3714496353984311\n"
     ]
    }
   ],
   "source": [
    "CardNumber = input(\"Enter 16 digit card number\")\n",
    "LastDigit = int(CardNumber[-1])\n",
    "if check_values(CardNumber) == 16:\n",
    "    digits = convert_to_int(CardNumber)\n",
    "    do_multiple_by_2(digits)\n",
    "    CheckSumDigits(digits)\n",
    "    if (LastDigit+check_sum(digits))%10==0:\n",
    "        print(\"Card number is valid\")\n",
    "    else:\n",
    "        print(\"Card number is invalid\")\n",
    "    \n",
    "\n"
   ]
  },
  {
   "cell_type": "code",
   "execution_count": null,
   "metadata": {},
   "outputs": [],
   "source": []
  },
  {
   "cell_type": "code",
   "execution_count": null,
   "metadata": {},
   "outputs": [],
   "source": []
  },
  {
   "cell_type": "code",
   "execution_count": null,
   "metadata": {},
   "outputs": [],
   "source": []
  },
  {
   "cell_type": "code",
   "execution_count": null,
   "metadata": {},
   "outputs": [],
   "source": []
  }
 ],
 "metadata": {
  "kernelspec": {
   "display_name": "Python 3",
   "language": "python",
   "name": "python3"
  },
  "language_info": {
   "codemirror_mode": {
    "name": "ipython",
    "version": 3
   },
   "file_extension": ".py",
   "mimetype": "text/x-python",
   "name": "python",
   "nbconvert_exporter": "python",
   "pygments_lexer": "ipython3",
   "version": "3.7.3"
  }
 },
 "nbformat": 4,
 "nbformat_minor": 2
}

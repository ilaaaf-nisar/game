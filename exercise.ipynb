{
 "cells": [
  {
   "cell_type": "markdown",
   "metadata": {},
   "source": [
    "# 7 to the power of 4"
   ]
  },
  {
   "cell_type": "code",
   "execution_count": null,
   "metadata": {},
   "outputs": [],
   "source": [
    "7**4"
   ]
  },
  {
   "cell_type": "markdown",
   "metadata": {},
   "source": [
    "# split the string "
   ]
  },
  {
   "cell_type": "code",
   "execution_count": null,
   "metadata": {},
   "outputs": [],
   "source": [
    "s = \"hello i am ilaaf\"\n",
    "s.split(\" \")"
   ]
  },
  {
   "cell_type": "markdown",
   "metadata": {},
   "source": [
    "# difference b/w tuples & lists"
   ]
  },
  {
   "cell_type": "code",
   "execution_count": null,
   "metadata": {},
   "outputs": [],
   "source": [
    "#tuples are immutable \n",
    "#lists are mutable"
   ]
  },
  {
   "cell_type": "markdown",
   "metadata": {},
   "source": [
    "# in nested list useindexing to graab the word 'hello'"
   ]
  },
  {
   "cell_type": "code",
   "execution_count": null,
   "metadata": {},
   "outputs": [],
   "source": [
    "x = [1,2,[3,4],[5,[100,200,['hello']],23,11],1,7]\n",
    "x[3][1][2][0]"
   ]
  },
  {
   "cell_type": "code",
   "execution_count": null,
   "metadata": {},
   "outputs": [],
   "source": [
    "d = {'k1':[1,2,3,{'tricky':['oh','man','inception',{'target':[1,2,3,'hello']}]}]}\n",
    "d['k1'][3]['tricky'][3]['target'][3]"
   ]
  },
  {
   "cell_type": "code",
   "execution_count": null,
   "metadata": {},
   "outputs": [],
   "source": []
  },
  {
   "cell_type": "markdown",
   "metadata": {},
   "source": [
    "# function that grabs the email website domain from a string in the form :\n",
    "user@mail.com"
   ]
  },
  {
   "cell_type": "code",
   "execution_count": null,
   "metadata": {},
   "outputs": [],
   "source": [
    "email = \"user@mail.com\"\n",
    "def DomainGet(x):\n",
    "    x = x.split('@')\n",
    "    return x[1]\n",
    "DomainGet(email)\n",
    "        \n"
   ]
  },
  {
   "cell_type": "markdown",
   "metadata": {},
   "source": [
    "# return true if a word 'dog' is present in string"
   ]
  },
  {
   "cell_type": "code",
   "execution_count": null,
   "metadata": {},
   "outputs": [],
   "source": [
    "str1 = input(\"Enter a string\")\n",
    "def FindDog(str1):\n",
    "    if 'dog' in str1.lower():\n",
    "        return True\n",
    "FindDog(str1)"
   ]
  },
  {
   "cell_type": "markdown",
   "metadata": {},
   "source": [
    "\n",
    "# count the number of times the word dog occurs in string"
   ]
  },
  {
   "cell_type": "code",
   "execution_count": null,
   "metadata": {},
   "outputs": [],
   "source": [
    "str1  = input(\"Enter the string\")\n",
    "def CountDog(str1):\n",
    "    count = 0\n",
    "    for i in str1.lower().split():\n",
    "        if i=='dog':\n",
    "            count+=1\n",
    "    return count\n",
    "CountDog(str1)"
   ]
  },
  {
   "cell_type": "markdown",
   "metadata": {},
   "source": [
    "# use lamda expression and filter function to filter the words fom a list that dont start with letter 's'"
   ]
  },
  {
   "cell_type": "code",
   "execution_count": null,
   "metadata": {},
   "outputs": [],
   "source": [
    "lst = ['slice','split','love','hate','friend','spring']\n",
    "list(filter(lambda word:word[0]=='s',lst))"
   ]
  },
  {
   "cell_type": "code",
   "execution_count": 2,
   "metadata": {},
   "outputs": [
    {
     "name": "stdout",
     "output_type": "stream",
     "text": [
      "Enter the speed60\n",
      "(T)True or (F)Falset\n",
      "No Ticket\n"
     ]
    }
   ],
   "source": [
    "Speed = int(input(\"Enter the speed\"))\n",
    "BirthDay= input(\"(T)True or (F)False\")\n",
    "if BirthDay=='t' or 'T' or 'True' or 'true':\n",
    "    BirthDay=True\n",
    "else:\n",
    "    BirthDay=False\n",
    "def CaughtByPolice(Speed,BirthDay):\n",
    "    if BirthDay==True:\n",
    "        if Speed<=60+5:\n",
    "            print(\"No Ticket\")\n",
    "        elif Speed>61+5 and Speed<=80+5:\n",
    "            print(\"Small ticket\")\n",
    "        else:\n",
    "            print(\"Big Ticket\")\n",
    "    else:\n",
    "        if Speed<=60:\n",
    "            print(\"No Ticket\")\n",
    "        elif Speed>61 and Speed<=80:\n",
    "            print(\"Small ticket\")\n",
    "        else:\n",
    "            print(\"Big Ticket\")\n",
    "CaughtByPolice(Speed,BirthDay)"
   ]
  },
  {
   "cell_type": "code",
   "execution_count": null,
   "metadata": {},
   "outputs": [],
   "source": []
  }
 ],
 "metadata": {
  "kernelspec": {
   "display_name": "Python 3",
   "language": "python",
   "name": "python3"
  },
  "language_info": {
   "codemirror_mode": {
    "name": "ipython",
    "version": 3
   },
   "file_extension": ".py",
   "mimetype": "text/x-python",
   "name": "python",
   "nbconvert_exporter": "python",
   "pygments_lexer": "ipython3",
   "version": "3.7.3"
  }
 },
 "nbformat": 4,
 "nbformat_minor": 2
}
